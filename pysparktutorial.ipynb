{
 "cells": [
  {
   "cell_type": "code",
   "execution_count": 14,
   "metadata": {},
   "outputs": [],
   "source": [
    "import pyspark\n",
    "import findspark\n",
    "from pyspark import SparkContext\n",
    "from pyspark.sql import *\n",
    "\n"
   ]
  },
  {
   "cell_type": "code",
   "execution_count": 16,
   "metadata": {},
   "outputs": [],
   "source": [
    "findspark.init()\n",
    "spark = SparkSession.builder.appName('abc').getOrCreate()"
   ]
  },
  {
   "cell_type": "markdown",
   "metadata": {},
   "source": [
    "### Reading CSV files into Spark Data Frame"
   ]
  },
  {
   "cell_type": "code",
   "execution_count": 27,
   "metadata": {},
   "outputs": [],
   "source": [
    "df=spark.read.csv('C:\\\\SanFranciscoData\\\\Police_Department_Incident_Reports__2018_to_Present.csv',header = True)"
   ]
  },
  {
   "cell_type": "code",
   "execution_count": 28,
   "metadata": {},
   "outputs": [
    {
     "name": "stdout",
     "output_type": "stream",
     "text": [
      "+--------------------+-------------+-------------+-------------+--------------------+--------------------+-----------+-----------+---------------+----------+----------------+-----------------------+------------+-------------+--------------------+--------------------+--------------------+--------------------+--------------------+--------+---------------+---------------------+-------------------+------------------+-------------------+--------------------+---------------------+------------------------+----------------------------+----------------------+---------------------------+------------------+----------------------------------------------------+---------------------------------+----------------------+----------------------------+\n",
      "|   Incident Datetime|Incident Date|Incident Time|Incident Year|Incident Day of Week|     Report Datetime|     Row ID|Incident ID|Incident Number|CAD Number|Report Type Code|Report Type Description|Filed Online|Incident Code|   Incident Category|Incident Subcategory|Incident Description|          Resolution|        Intersection|     CNN|Police District|Analysis Neighborhood|Supervisor District|          Latitude|          Longitude|               point|SF Find Neighborhoods|Current Police Districts|Current Supervisor Districts|Analysis Neighborhoods|HSOC Zones as of 2018-06-05|OWED Public Spaces|Central Market/Tenderloin Boundary Polygon - Updated|Parks Alliance CPSI (27+TL sites)|ESNCAG - Boundary File|Areas of Vulnerability, 2016|\n",
      "+--------------------+-------------+-------------+-------------+--------------------+--------------------+-----------+-----------+---------------+----------+----------------+-----------------------+------------+-------------+--------------------+--------------------+--------------------+--------------------+--------------------+--------+---------------+---------------------+-------------------+------------------+-------------------+--------------------+---------------------+------------------------+----------------------------+----------------------+---------------------------+------------------+----------------------------------------------------+---------------------------------+----------------------+----------------------------+\n",
      "|2019/05/01 01:00:...|   2019/05/01|        01:00|         2019|           Wednesday|2019/06/12 08:27:...|81097515200|     810975|      190424067| 191634131|              II|                Initial|        null|        15200|Offences Against ...|               Other|Domestic Violence...|      Open or Active|40TH AVE \\ IRVING ST|27789000|        Taraval|      Sunset/Parkside|                  4| 37.76256939715695|-122.49962745519909|POINT (-122.49962...|                   39|                      10|                           7|                    35|                       null|              null|                                                null|                             null|                  null|                           1|\n",
      "|2019/06/22 07:45:...|   2019/06/22|        07:45|         2019|            Saturday|2019/06/22 08:05:...|81465564020|     814655|      190450880| 191730737|              II|                Initial|        null|        64020|        Non-Criminal|               Other|Mental Health Det...|      Open or Active|  06TH ST \\ MINNA ST|24285000|       Southern|      South of Market|                  6|  37.7805353858225|-122.40816079455212|POINT (-122.40816...|                   32|                       1|                          10|                    34|                          1|              null|                                                   1|                             null|                  null|                           2|\n",
      "|2019/06/03 04:16:...|   2019/06/03|        16:16|         2019|              Monday|2019/06/03 04:16:...|80769875000|     807698|      190397016| 191533509|              IS|     Initial Supplement|        null|        75000|      Missing Person|      Missing Person|        Found Person|      Open or Active|EGBERT AVE \\ INGA...|20447000|        Bayview| Bayview Hunters P...|                 10| 37.72159985216247|-122.39074534279013|POINT (-122.39074...|                   88|                       2|                           9|                     1|                       null|              null|                                                null|                             null|                  null|                           2|\n",
      "|2018/11/16 04:34:...|   2018/11/16|        16:34|         2018|              Friday|2018/11/16 04:34:...|73857915041|     738579|      180870806| 183202539|              IS|     Initial Supplement|        null|        15041|Offences Against ...|     Family Offenses|Elder Adult or De...|Cite or Arrest Adult|MERCHANT ST \\ KEA...|24773000|        Central|            Chinatown|                  3|37.794859532228344|-122.40487561154785|POINT (-122.40487...|                  104|                       6|                           3|                     6|                       null|                18|                                                null|                             null|                  null|                           2|\n",
      "|2019/05/27 02:25:...|   2019/05/27|        02:25|         2019|              Monday|2019/05/27 02:55:...|80509204134|     805092|      190378555| 191470256|              II|                Initial|        null|        04134|             Assault|      Simple Assault|             Battery|      Open or Active|LAGUNA ST \\ UNION ST|26583000|       Northern|               Marina|                  2| 37.79771621229674|-122.43055896140594|POINT (-122.43055...|                   15|                       4|                           6|                    13|                       null|              null|                                                null|                             null|                  null|                           1|\n",
      "|2018/11/07 03:50:...|   2018/11/07|        03:50|         2018|           Wednesday|2018/11/15 11:28:...|73795805151|     737958|      180867364| 183191559|              II|                Initial|        null|        05151|            Burglary|    Burglary - Other|Burglary, Non-res...|      Open or Active|  03RD ST \\ MINNA ST|24609000|        Central| Financial Distric...|                  6| 37.78582921318811|-122.40148983641853|POINT (-122.40148...|                   32|                       1|                          10|                     8|                       null|              null|                                                null|                             null|                  null|                           1|\n",
      "|2019/08/15 12:45:...|   2019/08/15|        12:45|         2019|            Thursday|2019/08/15 05:23:...|83489506244|     834895|      190601215| 192273186|              II|                Initial|        null|        06244|       Larceny Theft|Larceny - From Ve...|Theft, From Locke...|      Open or Active|GEARY BLVD \\ PRES...|26834000|       Richmond|    Lone Mountain/USF|                  2|37.782488031626265| -122.4458205129012|POINT (-122.44582...|                   13|                       8|                           6|                    18|                       null|              null|                                                null|                             null|                  null|                           1|\n",
      "|2019/08/07 07:45:...|   2019/08/07|        07:45|         2019|           Wednesday|2019/08/07 07:47:...|83165364085|     831653|      190575999| 192190726|              II|                Initial|        null|        64085| Other Miscellaneous|               Other|Investigative Det...|      Open or Active|STEVENSON ST \\ 07...|24319000|     Tenderloin|      South of Market|                  6|37.780005867994824|-122.41193341005338|POINT (-122.41193...|                   32|                       5|                          10|                    34|                          1|              null|                                                   1|                             null|                  null|                           2|\n",
      "|2018/11/15 03:56:...|   2018/11/15|        15:56|         2018|            Thursday|2018/11/15 03:56:...|73829775025|     738297|      180841766| 183192626|              IS|     Initial Supplement|        null|        75025|        Non-Criminal|        Non-Criminal|Search Warrant Se...|Cite or Arrest Adult|  EDDY ST \\ SCOTT ST|26075000|       Northern|     Western Addition|                  5| 37.78080176962032|-122.43726005920409|POINT (-122.43726...|                   97|                       4|                          11|                    39|                       null|              null|                                                null|                             null|                  null|                           2|\n",
      "|2019/06/29 04:52:...|   2019/06/29|        16:52|         2019|            Saturday|2019/06/29 04:52:...|81679765010|     816797|      190470292| 191802774|              II|                Initial|        null|        65010|Traffic Violation...|Traffic Violation...|Traffic Violation...|Cite or Arrest Adult|COLUMBUS AVE \\ BE...|25598000|        Central|         Russian Hill|                  2|37.806780111468534| -122.4195772441978|POINT (-122.41957...|                   99|                       6|                           6|                    32|                       null|              null|                                                null|                             null|                  null|                           1|\n",
      "|2019/03/07 10:05:...|   2019/03/07|        22:05|         2019|            Thursday|2019/03/07 10:45:...|77739816650|     777398|      190167706| 190664298|              II|                Initial|        null|        16650|        Drug Offense|      Drug Violation|Methamphetamine O...|Cite or Arrest Adult| MARKET ST \\ 14TH ST|25878000|        Mission|  Castro/Upper Market|                  8| 37.76773488710466|-122.42865716430941|POINT (-122.42865...|                   28|                       3|                           5|                     5|                          5|              null|                                                null|                             null|                  null|                           1|\n",
      "|2019/02/16 11:37:...|   2019/02/16|        11:37|         2019|            Saturday|2019/02/16 11:37:...|77067214020|     770672|      190117096| 190471394|              II|                Initial|        null|        14020|         Sex Offense|         Sex Offense|Sex Offender, Fai...|Cite or Arrest Adult|HAYES ST \\ BUCHAN...|25933000|       Northern|         Hayes Valley|                  5| 37.77625366680294|-122.42791371593532|POINT (-122.42791...|                   22|                       4|                          11|                     9|                       null|              null|                                                null|                             null|                  null|                           1|\n",
      "|2019/02/27 03:30:...|   2019/02/27|        15:30|         2019|           Wednesday|2019/02/27 05:09:...|77514206244|     775142|      196042241|      null|              II|       Coplogic Initial|        true|        06244|       Larceny Theft|Larceny - From Ve...|Theft, From Locke...|      Open or Active|BATTERY ST \\ MERC...|24699000|        Central| Financial Distric...|                  3| 37.79544849687888|-122.40041268582165|POINT (-122.40041...|                  108|                       6|                           3|                     8|                       null|              null|                                                null|                             null|                  null|                           1|\n",
      "|2018/11/09 01:02:...|   2018/11/09|        13:02|         2018|              Friday|2018/11/09 01:02:...|73574572000|     735745|      180852688| 183132024|              II|                Initial|        null|        72000|        Non-Criminal|        Non-Criminal|     Found  Property|      Open or Active|JONES ST \\ GREENW...|25504000|        Central|         Russian Hill|                  2| 37.80148085930786| -122.4161329976556|POINT (-122.41613...|                  107|                       6|                           6|                    32|                       null|              null|                                                null|                             null|                  null|                           1|\n",
      "|2019/04/08 12:30:...|   2019/04/08|        00:30|         2019|              Monday|2019/04/08 12:46:...|78815406242|     788154|      190248732| 190981751|              II|                Initial|        null|        06242|       Larceny Theft|Larceny - From Ve...|Theft, From Locke...|      Open or Active|WEBSTER ST \\ POST ST|26591000|       Northern|            Japantown|                  5| 37.78537264618818|-122.43136639807875|POINT (-122.43136...|                  101|                       4|                          11|                    15|                       null|              null|                                                null|                             null|                  null|                           2|\n",
      "|2019/08/14 08:52:...|   2019/08/14|        08:52|         2019|           Wednesday|2019/08/14 08:52:...|83436230155|     834362|      190596600| 192260918|              II|                Initial|        null|        30155|      Other Offenses|               Other|Alcohol, Consumin...|Cite or Arrest Adult|VAN NESS AVE \\ OL...|25193000|       Northern|           Tenderloin|                  6| 37.78430272931328|-122.42101751556473|POINT (-122.42101...|                   20|                       4|                          10|                    36|                       null|              null|                                                   1|                             null|                  null|                           2|\n",
      "|2019/03/21 02:57:...|   2019/03/21|        14:57|         2019|            Thursday|2019/03/21 02:57:...|78380004013|     783800|      190202302| 190802425|              IS|     Initial Supplement|        null|        04013|             Assault|  Aggravated Assault|Assault, Aggravat...|Cite or Arrest Adult| TAYLOR ST \\ EDDY ST|24925000|     Tenderloin|           Tenderloin|                  6| 37.78414101130419|-122.41095161908784|POINT (-122.41095...|                   20|                       5|                          10|                    36|                       null|              null|                                                   1|                             null|                  null|                           2|\n",
      "|2019/01/08 11:40:...|   2019/01/08|        11:40|         2019|             Tuesday|2019/01/08 12:06:...|75706672000|     757066|      190018557| 190081481|              II|                Initial|        null|        72000|        Non-Criminal|        Non-Criminal|     Found  Property|      Open or Active|HYDE ST \\ CALIFOR...|25252000|        Central|             Nob Hill|                  3|37.790973190511274|-122.41739133606869|POINT (-122.41739...|                   16|                       6|                           3|                    21|                       null|              null|                                                null|                             null|                  null|                           1|\n",
      "|2019/07/26 05:19:...|   2019/07/26|        05:19|         2019|              Friday|2019/07/26 05:22:...|82693328150|     826933|      190541934| 192070418|              II|                Initial|        null|        28150|  Malicious Mischief|           Vandalism|Malicious Mischie...|Cite or Arrest Adult|   CARL ST \\ COLE ST|26282000|           Park|       Haight Ashbury|                  5| 37.76580002791046|-122.44995813260148|POINT (-122.44995...|                   29|                       7|                          11|                     3|                       null|              null|                                                null|                             null|                  null|                           1|\n",
      "|2019/06/22 08:52:...|   2019/06/22|        20:52|         2019|            Saturday|2019/06/22 08:52:...|81452171012|     814521|      161010198|      null|              VS|     Vehicle Supplement|        null|        71012|      Other Offenses|      Other Offenses|License Plate, Re...|      Open or Active|                null|    null|      Out of SF|                 null|               null|              null|               null|                null|                 null|                    null|                        null|                  null|                       null|              null|                                                null|                             null|                  null|                        null|\n",
      "+--------------------+-------------+-------------+-------------+--------------------+--------------------+-----------+-----------+---------------+----------+----------------+-----------------------+------------+-------------+--------------------+--------------------+--------------------+--------------------+--------------------+--------+---------------+---------------------+-------------------+------------------+-------------------+--------------------+---------------------+------------------------+----------------------------+----------------------+---------------------------+------------------+----------------------------------------------------+---------------------------------+----------------------+----------------------------+\n",
      "only showing top 20 rows\n",
      "\n"
     ]
    }
   ],
   "source": [
    "df.show()"
   ]
  },
  {
   "cell_type": "code",
   "execution_count": 36,
   "metadata": {},
   "outputs": [],
   "source": [
    "df = spark.read.format('com.databricks.spark.csv').options(header='true', inferschema='true').load('C:\\\\SanFranciscoData\\\\Police_Department_Incident_Reports__2018_to_Present.csv')"
   ]
  },
  {
   "cell_type": "code",
   "execution_count": 37,
   "metadata": {},
   "outputs": [
    {
     "name": "stdout",
     "output_type": "stream",
     "text": [
      "+--------------------+-------------+-------------+-------------+--------------------+--------------------+-----------+-----------+---------------+----------+----------------+-----------------------+------------+-------------+--------------------+--------------------+--------------------+--------------------+--------------------+--------+---------------+---------------------+-------------------+------------------+-------------------+--------------------+---------------------+------------------------+----------------------------+----------------------+---------------------------+------------------+----------------------------------------------------+---------------------------------+----------------------+----------------------------+\n",
      "|   Incident Datetime|Incident Date|Incident Time|Incident Year|Incident Day of Week|     Report Datetime|     Row ID|Incident ID|Incident Number|CAD Number|Report Type Code|Report Type Description|Filed Online|Incident Code|   Incident Category|Incident Subcategory|Incident Description|          Resolution|        Intersection|     CNN|Police District|Analysis Neighborhood|Supervisor District|          Latitude|          Longitude|               point|SF Find Neighborhoods|Current Police Districts|Current Supervisor Districts|Analysis Neighborhoods|HSOC Zones as of 2018-06-05|OWED Public Spaces|Central Market/Tenderloin Boundary Polygon - Updated|Parks Alliance CPSI (27+TL sites)|ESNCAG - Boundary File|Areas of Vulnerability, 2016|\n",
      "+--------------------+-------------+-------------+-------------+--------------------+--------------------+-----------+-----------+---------------+----------+----------------+-----------------------+------------+-------------+--------------------+--------------------+--------------------+--------------------+--------------------+--------+---------------+---------------------+-------------------+------------------+-------------------+--------------------+---------------------+------------------------+----------------------------+----------------------+---------------------------+------------------+----------------------------------------------------+---------------------------------+----------------------+----------------------------+\n",
      "|2019/05/01 01:00:...|   2019/05/01|        01:00|         2019|           Wednesday|2019/06/12 08:27:...|81097515200|     810975|      190424067| 191634131|              II|                Initial|        null|        15200|Offences Against ...|               Other|Domestic Violence...|      Open or Active|40TH AVE \\ IRVING ST|27789000|        Taraval|      Sunset/Parkside|                  4| 37.76256939715695|-122.49962745519909|POINT (-122.49962...|                   39|                      10|                           7|                    35|                       null|              null|                                                null|                             null|                  null|                           1|\n",
      "|2019/06/22 07:45:...|   2019/06/22|        07:45|         2019|            Saturday|2019/06/22 08:05:...|81465564020|     814655|      190450880| 191730737|              II|                Initial|        null|        64020|        Non-Criminal|               Other|Mental Health Det...|      Open or Active|  06TH ST \\ MINNA ST|24285000|       Southern|      South of Market|                  6|  37.7805353858225|-122.40816079455212|POINT (-122.40816...|                   32|                       1|                          10|                    34|                          1|              null|                                                   1|                             null|                  null|                           2|\n",
      "|2019/06/03 04:16:...|   2019/06/03|        16:16|         2019|              Monday|2019/06/03 04:16:...|80769875000|     807698|      190397016| 191533509|              IS|     Initial Supplement|        null|        75000|      Missing Person|      Missing Person|        Found Person|      Open or Active|EGBERT AVE \\ INGA...|20447000|        Bayview| Bayview Hunters P...|                 10| 37.72159985216247|-122.39074534279013|POINT (-122.39074...|                   88|                       2|                           9|                     1|                       null|              null|                                                null|                             null|                  null|                           2|\n",
      "|2018/11/16 04:34:...|   2018/11/16|        16:34|         2018|              Friday|2018/11/16 04:34:...|73857915041|     738579|      180870806| 183202539|              IS|     Initial Supplement|        null|        15041|Offences Against ...|     Family Offenses|Elder Adult or De...|Cite or Arrest Adult|MERCHANT ST \\ KEA...|24773000|        Central|            Chinatown|                  3|37.794859532228344|-122.40487561154785|POINT (-122.40487...|                  104|                       6|                           3|                     6|                       null|                18|                                                null|                             null|                  null|                           2|\n",
      "|2019/05/27 02:25:...|   2019/05/27|        02:25|         2019|              Monday|2019/05/27 02:55:...|80509204134|     805092|      190378555| 191470256|              II|                Initial|        null|         4134|             Assault|      Simple Assault|             Battery|      Open or Active|LAGUNA ST \\ UNION ST|26583000|       Northern|               Marina|                  2| 37.79771621229674|-122.43055896140594|POINT (-122.43055...|                   15|                       4|                           6|                    13|                       null|              null|                                                null|                             null|                  null|                           1|\n",
      "|2018/11/07 03:50:...|   2018/11/07|        03:50|         2018|           Wednesday|2018/11/15 11:28:...|73795805151|     737958|      180867364| 183191559|              II|                Initial|        null|         5151|            Burglary|    Burglary - Other|Burglary, Non-res...|      Open or Active|  03RD ST \\ MINNA ST|24609000|        Central| Financial Distric...|                  6| 37.78582921318811|-122.40148983641853|POINT (-122.40148...|                   32|                       1|                          10|                     8|                       null|              null|                                                null|                             null|                  null|                           1|\n",
      "|2019/08/15 12:45:...|   2019/08/15|        12:45|         2019|            Thursday|2019/08/15 05:23:...|83489506244|     834895|      190601215| 192273186|              II|                Initial|        null|         6244|       Larceny Theft|Larceny - From Ve...|Theft, From Locke...|      Open or Active|GEARY BLVD \\ PRES...|26834000|       Richmond|    Lone Mountain/USF|                  2|37.782488031626265| -122.4458205129012|POINT (-122.44582...|                   13|                       8|                           6|                    18|                       null|              null|                                                null|                             null|                  null|                           1|\n",
      "|2019/08/07 07:45:...|   2019/08/07|        07:45|         2019|           Wednesday|2019/08/07 07:47:...|83165364085|     831653|      190575999| 192190726|              II|                Initial|        null|        64085| Other Miscellaneous|               Other|Investigative Det...|      Open or Active|STEVENSON ST \\ 07...|24319000|     Tenderloin|      South of Market|                  6|37.780005867994824|-122.41193341005338|POINT (-122.41193...|                   32|                       5|                          10|                    34|                          1|              null|                                                   1|                             null|                  null|                           2|\n",
      "|2018/11/15 03:56:...|   2018/11/15|        15:56|         2018|            Thursday|2018/11/15 03:56:...|73829775025|     738297|      180841766| 183192626|              IS|     Initial Supplement|        null|        75025|        Non-Criminal|        Non-Criminal|Search Warrant Se...|Cite or Arrest Adult|  EDDY ST \\ SCOTT ST|26075000|       Northern|     Western Addition|                  5| 37.78080176962032|-122.43726005920409|POINT (-122.43726...|                   97|                       4|                          11|                    39|                       null|              null|                                                null|                             null|                  null|                           2|\n",
      "|2019/06/29 04:52:...|   2019/06/29|        16:52|         2019|            Saturday|2019/06/29 04:52:...|81679765010|     816797|      190470292| 191802774|              II|                Initial|        null|        65010|Traffic Violation...|Traffic Violation...|Traffic Violation...|Cite or Arrest Adult|COLUMBUS AVE \\ BE...|25598000|        Central|         Russian Hill|                  2|37.806780111468534| -122.4195772441978|POINT (-122.41957...|                   99|                       6|                           6|                    32|                       null|              null|                                                null|                             null|                  null|                           1|\n",
      "|2019/03/07 10:05:...|   2019/03/07|        22:05|         2019|            Thursday|2019/03/07 10:45:...|77739816650|     777398|      190167706| 190664298|              II|                Initial|        null|        16650|        Drug Offense|      Drug Violation|Methamphetamine O...|Cite or Arrest Adult| MARKET ST \\ 14TH ST|25878000|        Mission|  Castro/Upper Market|                  8| 37.76773488710466|-122.42865716430941|POINT (-122.42865...|                   28|                       3|                           5|                     5|                          5|              null|                                                null|                             null|                  null|                           1|\n",
      "|2019/02/16 11:37:...|   2019/02/16|        11:37|         2019|            Saturday|2019/02/16 11:37:...|77067214020|     770672|      190117096| 190471394|              II|                Initial|        null|        14020|         Sex Offense|         Sex Offense|Sex Offender, Fai...|Cite or Arrest Adult|HAYES ST \\ BUCHAN...|25933000|       Northern|         Hayes Valley|                  5| 37.77625366680294|-122.42791371593532|POINT (-122.42791...|                   22|                       4|                          11|                     9|                       null|              null|                                                null|                             null|                  null|                           1|\n",
      "|2019/02/27 03:30:...|   2019/02/27|        15:30|         2019|           Wednesday|2019/02/27 05:09:...|77514206244|     775142|      196042241|      null|              II|       Coplogic Initial|        true|         6244|       Larceny Theft|Larceny - From Ve...|Theft, From Locke...|      Open or Active|BATTERY ST \\ MERC...|24699000|        Central| Financial Distric...|                  3| 37.79544849687888|-122.40041268582165|POINT (-122.40041...|                  108|                       6|                           3|                     8|                       null|              null|                                                null|                             null|                  null|                           1|\n",
      "|2018/11/09 01:02:...|   2018/11/09|        13:02|         2018|              Friday|2018/11/09 01:02:...|73574572000|     735745|      180852688| 183132024|              II|                Initial|        null|        72000|        Non-Criminal|        Non-Criminal|     Found  Property|      Open or Active|JONES ST \\ GREENW...|25504000|        Central|         Russian Hill|                  2| 37.80148085930786| -122.4161329976556|POINT (-122.41613...|                  107|                       6|                           6|                    32|                       null|              null|                                                null|                             null|                  null|                           1|\n",
      "|2019/04/08 12:30:...|   2019/04/08|        00:30|         2019|              Monday|2019/04/08 12:46:...|78815406242|     788154|      190248732| 190981751|              II|                Initial|        null|         6242|       Larceny Theft|Larceny - From Ve...|Theft, From Locke...|      Open or Active|WEBSTER ST \\ POST ST|26591000|       Northern|            Japantown|                  5| 37.78537264618818|-122.43136639807875|POINT (-122.43136...|                  101|                       4|                          11|                    15|                       null|              null|                                                null|                             null|                  null|                           2|\n",
      "|2019/08/14 08:52:...|   2019/08/14|        08:52|         2019|           Wednesday|2019/08/14 08:52:...|83436230155|     834362|      190596600| 192260918|              II|                Initial|        null|        30155|      Other Offenses|               Other|Alcohol, Consumin...|Cite or Arrest Adult|VAN NESS AVE \\ OL...|25193000|       Northern|           Tenderloin|                  6| 37.78430272931328|-122.42101751556473|POINT (-122.42101...|                   20|                       4|                          10|                    36|                       null|              null|                                                   1|                             null|                  null|                           2|\n",
      "|2019/03/21 02:57:...|   2019/03/21|        14:57|         2019|            Thursday|2019/03/21 02:57:...|78380004013|     783800|      190202302| 190802425|              IS|     Initial Supplement|        null|         4013|             Assault|  Aggravated Assault|Assault, Aggravat...|Cite or Arrest Adult| TAYLOR ST \\ EDDY ST|24925000|     Tenderloin|           Tenderloin|                  6| 37.78414101130419|-122.41095161908784|POINT (-122.41095...|                   20|                       5|                          10|                    36|                       null|              null|                                                   1|                             null|                  null|                           2|\n",
      "|2019/01/08 11:40:...|   2019/01/08|        11:40|         2019|             Tuesday|2019/01/08 12:06:...|75706672000|     757066|      190018557| 190081481|              II|                Initial|        null|        72000|        Non-Criminal|        Non-Criminal|     Found  Property|      Open or Active|HYDE ST \\ CALIFOR...|25252000|        Central|             Nob Hill|                  3|37.790973190511274|-122.41739133606869|POINT (-122.41739...|                   16|                       6|                           3|                    21|                       null|              null|                                                null|                             null|                  null|                           1|\n",
      "|2019/07/26 05:19:...|   2019/07/26|        05:19|         2019|              Friday|2019/07/26 05:22:...|82693328150|     826933|      190541934| 192070418|              II|                Initial|        null|        28150|  Malicious Mischief|           Vandalism|Malicious Mischie...|Cite or Arrest Adult|   CARL ST \\ COLE ST|26282000|           Park|       Haight Ashbury|                  5| 37.76580002791046|-122.44995813260148|POINT (-122.44995...|                   29|                       7|                          11|                     3|                       null|              null|                                                null|                             null|                  null|                           1|\n",
      "|2019/06/22 08:52:...|   2019/06/22|        20:52|         2019|            Saturday|2019/06/22 08:52:...|81452171012|     814521|      161010198|      null|              VS|     Vehicle Supplement|        null|        71012|      Other Offenses|      Other Offenses|License Plate, Re...|      Open or Active|                null|    null|      Out of SF|                 null|               null|              null|               null|                null|                 null|                    null|                        null|                  null|                       null|              null|                                                null|                             null|                  null|                        null|\n",
      "+--------------------+-------------+-------------+-------------+--------------------+--------------------+-----------+-----------+---------------+----------+----------------+-----------------------+------------+-------------+--------------------+--------------------+--------------------+--------------------+--------------------+--------+---------------+---------------------+-------------------+------------------+-------------------+--------------------+---------------------+------------------------+----------------------------+----------------------+---------------------------+------------------+----------------------------------------------------+---------------------------------+----------------------+----------------------------+\n",
      "only showing top 20 rows\n",
      "\n"
     ]
    }
   ],
   "source": [
    "df.show()"
   ]
  },
  {
   "cell_type": "code",
   "execution_count": 49,
   "metadata": {},
   "outputs": [],
   "source": [
    "df = spark.read.option(\"header\",'true').option(\"escape\",\"\\\"\").csv(\"C:\\\\SanFranciscoData\\\\Police_Department_Incident_Reports__2018_to_Present.csv\");"
   ]
  },
  {
   "cell_type": "code",
   "execution_count": 50,
   "metadata": {},
   "outputs": [
    {
     "name": "stdout",
     "output_type": "stream",
     "text": [
      "+--------------------+-------------+-------------+-------------+--------------------+--------------------+-----------+-----------+---------------+----------+----------------+-----------------------+------------+-------------+--------------------+--------------------+--------------------+--------------------+--------------------+--------+---------------+---------------------+-------------------+------------------+-------------------+--------------------+---------------------+------------------------+----------------------------+----------------------+---------------------------+------------------+----------------------------------------------------+---------------------------------+----------------------+----------------------------+\n",
      "|   Incident Datetime|Incident Date|Incident Time|Incident Year|Incident Day of Week|     Report Datetime|     Row ID|Incident ID|Incident Number|CAD Number|Report Type Code|Report Type Description|Filed Online|Incident Code|   Incident Category|Incident Subcategory|Incident Description|          Resolution|        Intersection|     CNN|Police District|Analysis Neighborhood|Supervisor District|          Latitude|          Longitude|               point|SF Find Neighborhoods|Current Police Districts|Current Supervisor Districts|Analysis Neighborhoods|HSOC Zones as of 2018-06-05|OWED Public Spaces|Central Market/Tenderloin Boundary Polygon - Updated|Parks Alliance CPSI (27+TL sites)|ESNCAG - Boundary File|Areas of Vulnerability, 2016|\n",
      "+--------------------+-------------+-------------+-------------+--------------------+--------------------+-----------+-----------+---------------+----------+----------------+-----------------------+------------+-------------+--------------------+--------------------+--------------------+--------------------+--------------------+--------+---------------+---------------------+-------------------+------------------+-------------------+--------------------+---------------------+------------------------+----------------------------+----------------------+---------------------------+------------------+----------------------------------------------------+---------------------------------+----------------------+----------------------------+\n",
      "|2019/05/01 01:00:...|   2019/05/01|        01:00|         2019|           Wednesday|2019/06/12 08:27:...|81097515200|     810975|      190424067| 191634131|              II|                Initial|        null|        15200|Offences Against ...|               Other|Domestic Violence...|      Open or Active|40TH AVE \\ IRVING ST|27789000|        Taraval|      Sunset/Parkside|                  4| 37.76256939715695|-122.49962745519909|POINT (-122.49962...|                   39|                      10|                           7|                    35|                       null|              null|                                                null|                             null|                  null|                           1|\n",
      "|2019/06/22 07:45:...|   2019/06/22|        07:45|         2019|            Saturday|2019/06/22 08:05:...|81465564020|     814655|      190450880| 191730737|              II|                Initial|        null|        64020|        Non-Criminal|               Other|Mental Health Det...|      Open or Active|  06TH ST \\ MINNA ST|24285000|       Southern|      South of Market|                  6|  37.7805353858225|-122.40816079455212|POINT (-122.40816...|                   32|                       1|                          10|                    34|                          1|              null|                                                   1|                             null|                  null|                           2|\n",
      "|2019/06/03 04:16:...|   2019/06/03|        16:16|         2019|              Monday|2019/06/03 04:16:...|80769875000|     807698|      190397016| 191533509|              IS|     Initial Supplement|        null|        75000|      Missing Person|      Missing Person|        Found Person|      Open or Active|EGBERT AVE \\ INGA...|20447000|        Bayview| Bayview Hunters P...|                 10| 37.72159985216247|-122.39074534279013|POINT (-122.39074...|                   88|                       2|                           9|                     1|                       null|              null|                                                null|                             null|                  null|                           2|\n",
      "|2018/11/16 04:34:...|   2018/11/16|        16:34|         2018|              Friday|2018/11/16 04:34:...|73857915041|     738579|      180870806| 183202539|              IS|     Initial Supplement|        null|        15041|Offences Against ...|     Family Offenses|Elder Adult or De...|Cite or Arrest Adult|MERCHANT ST \\ KEA...|24773000|        Central|            Chinatown|                  3|37.794859532228344|-122.40487561154785|POINT (-122.40487...|                  104|                       6|                           3|                     6|                       null|                18|                                                null|                             null|                  null|                           2|\n",
      "|2019/05/27 02:25:...|   2019/05/27|        02:25|         2019|              Monday|2019/05/27 02:55:...|80509204134|     805092|      190378555| 191470256|              II|                Initial|        null|        04134|             Assault|      Simple Assault|             Battery|      Open or Active|LAGUNA ST \\ UNION ST|26583000|       Northern|               Marina|                  2| 37.79771621229674|-122.43055896140594|POINT (-122.43055...|                   15|                       4|                           6|                    13|                       null|              null|                                                null|                             null|                  null|                           1|\n",
      "|2018/11/07 03:50:...|   2018/11/07|        03:50|         2018|           Wednesday|2018/11/15 11:28:...|73795805151|     737958|      180867364| 183191559|              II|                Initial|        null|        05151|            Burglary|    Burglary - Other|Burglary, Non-res...|      Open or Active|  03RD ST \\ MINNA ST|24609000|        Central| Financial Distric...|                  6| 37.78582921318811|-122.40148983641853|POINT (-122.40148...|                   32|                       1|                          10|                     8|                       null|              null|                                                null|                             null|                  null|                           1|\n",
      "|2019/08/15 12:45:...|   2019/08/15|        12:45|         2019|            Thursday|2019/08/15 05:23:...|83489506244|     834895|      190601215| 192273186|              II|                Initial|        null|        06244|       Larceny Theft|Larceny - From Ve...|Theft, From Locke...|      Open or Active|GEARY BLVD \\ PRES...|26834000|       Richmond|    Lone Mountain/USF|                  2|37.782488031626265| -122.4458205129012|POINT (-122.44582...|                   13|                       8|                           6|                    18|                       null|              null|                                                null|                             null|                  null|                           1|\n",
      "|2019/08/07 07:45:...|   2019/08/07|        07:45|         2019|           Wednesday|2019/08/07 07:47:...|83165364085|     831653|      190575999| 192190726|              II|                Initial|        null|        64085| Other Miscellaneous|               Other|Investigative Det...|      Open or Active|STEVENSON ST \\ 07...|24319000|     Tenderloin|      South of Market|                  6|37.780005867994824|-122.41193341005338|POINT (-122.41193...|                   32|                       5|                          10|                    34|                          1|              null|                                                   1|                             null|                  null|                           2|\n",
      "|2018/11/15 03:56:...|   2018/11/15|        15:56|         2018|            Thursday|2018/11/15 03:56:...|73829775025|     738297|      180841766| 183192626|              IS|     Initial Supplement|        null|        75025|        Non-Criminal|        Non-Criminal|Search Warrant Se...|Cite or Arrest Adult|  EDDY ST \\ SCOTT ST|26075000|       Northern|     Western Addition|                  5| 37.78080176962032|-122.43726005920409|POINT (-122.43726...|                   97|                       4|                          11|                    39|                       null|              null|                                                null|                             null|                  null|                           2|\n",
      "|2019/06/29 04:52:...|   2019/06/29|        16:52|         2019|            Saturday|2019/06/29 04:52:...|81679765010|     816797|      190470292| 191802774|              II|                Initial|        null|        65010|Traffic Violation...|Traffic Violation...|Traffic Violation...|Cite or Arrest Adult|COLUMBUS AVE \\ BE...|25598000|        Central|         Russian Hill|                  2|37.806780111468534| -122.4195772441978|POINT (-122.41957...|                   99|                       6|                           6|                    32|                       null|              null|                                                null|                             null|                  null|                           1|\n",
      "|2019/03/07 10:05:...|   2019/03/07|        22:05|         2019|            Thursday|2019/03/07 10:45:...|77739816650|     777398|      190167706| 190664298|              II|                Initial|        null|        16650|        Drug Offense|      Drug Violation|Methamphetamine O...|Cite or Arrest Adult| MARKET ST \\ 14TH ST|25878000|        Mission|  Castro/Upper Market|                  8| 37.76773488710466|-122.42865716430941|POINT (-122.42865...|                   28|                       3|                           5|                     5|                          5|              null|                                                null|                             null|                  null|                           1|\n",
      "|2019/02/16 11:37:...|   2019/02/16|        11:37|         2019|            Saturday|2019/02/16 11:37:...|77067214020|     770672|      190117096| 190471394|              II|                Initial|        null|        14020|         Sex Offense|         Sex Offense|Sex Offender, Fai...|Cite or Arrest Adult|HAYES ST \\ BUCHAN...|25933000|       Northern|         Hayes Valley|                  5| 37.77625366680294|-122.42791371593532|POINT (-122.42791...|                   22|                       4|                          11|                     9|                       null|              null|                                                null|                             null|                  null|                           1|\n",
      "|2019/02/27 03:30:...|   2019/02/27|        15:30|         2019|           Wednesday|2019/02/27 05:09:...|77514206244|     775142|      196042241|      null|              II|       Coplogic Initial|        true|        06244|       Larceny Theft|Larceny - From Ve...|Theft, From Locke...|      Open or Active|BATTERY ST \\ MERC...|24699000|        Central| Financial Distric...|                  3| 37.79544849687888|-122.40041268582165|POINT (-122.40041...|                  108|                       6|                           3|                     8|                       null|              null|                                                null|                             null|                  null|                           1|\n",
      "|2018/11/09 01:02:...|   2018/11/09|        13:02|         2018|              Friday|2018/11/09 01:02:...|73574572000|     735745|      180852688| 183132024|              II|                Initial|        null|        72000|        Non-Criminal|        Non-Criminal|     Found  Property|      Open or Active|JONES ST \\ GREENW...|25504000|        Central|         Russian Hill|                  2| 37.80148085930786| -122.4161329976556|POINT (-122.41613...|                  107|                       6|                           6|                    32|                       null|              null|                                                null|                             null|                  null|                           1|\n",
      "|2019/04/08 12:30:...|   2019/04/08|        00:30|         2019|              Monday|2019/04/08 12:46:...|78815406242|     788154|      190248732| 190981751|              II|                Initial|        null|        06242|       Larceny Theft|Larceny - From Ve...|Theft, From Locke...|      Open or Active|WEBSTER ST \\ POST ST|26591000|       Northern|            Japantown|                  5| 37.78537264618818|-122.43136639807875|POINT (-122.43136...|                  101|                       4|                          11|                    15|                       null|              null|                                                null|                             null|                  null|                           2|\n",
      "|2019/08/14 08:52:...|   2019/08/14|        08:52|         2019|           Wednesday|2019/08/14 08:52:...|83436230155|     834362|      190596600| 192260918|              II|                Initial|        null|        30155|      Other Offenses|               Other|Alcohol, Consumin...|Cite or Arrest Adult|VAN NESS AVE \\ OL...|25193000|       Northern|           Tenderloin|                  6| 37.78430272931328|-122.42101751556473|POINT (-122.42101...|                   20|                       4|                          10|                    36|                       null|              null|                                                   1|                             null|                  null|                           2|\n",
      "|2019/03/21 02:57:...|   2019/03/21|        14:57|         2019|            Thursday|2019/03/21 02:57:...|78380004013|     783800|      190202302| 190802425|              IS|     Initial Supplement|        null|        04013|             Assault|  Aggravated Assault|Assault, Aggravat...|Cite or Arrest Adult| TAYLOR ST \\ EDDY ST|24925000|     Tenderloin|           Tenderloin|                  6| 37.78414101130419|-122.41095161908784|POINT (-122.41095...|                   20|                       5|                          10|                    36|                       null|              null|                                                   1|                             null|                  null|                           2|\n",
      "|2019/01/08 11:40:...|   2019/01/08|        11:40|         2019|             Tuesday|2019/01/08 12:06:...|75706672000|     757066|      190018557| 190081481|              II|                Initial|        null|        72000|        Non-Criminal|        Non-Criminal|     Found  Property|      Open or Active|HYDE ST \\ CALIFOR...|25252000|        Central|             Nob Hill|                  3|37.790973190511274|-122.41739133606869|POINT (-122.41739...|                   16|                       6|                           3|                    21|                       null|              null|                                                null|                             null|                  null|                           1|\n",
      "|2019/07/26 05:19:...|   2019/07/26|        05:19|         2019|              Friday|2019/07/26 05:22:...|82693328150|     826933|      190541934| 192070418|              II|                Initial|        null|        28150|  Malicious Mischief|           Vandalism|Malicious Mischie...|Cite or Arrest Adult|   CARL ST \\ COLE ST|26282000|           Park|       Haight Ashbury|                  5| 37.76580002791046|-122.44995813260148|POINT (-122.44995...|                   29|                       7|                          11|                     3|                       null|              null|                                                null|                             null|                  null|                           1|\n",
      "|2019/06/22 08:52:...|   2019/06/22|        20:52|         2019|            Saturday|2019/06/22 08:52:...|81452171012|     814521|      161010198|      null|              VS|     Vehicle Supplement|        null|        71012|      Other Offenses|      Other Offenses|License Plate, Re...|      Open or Active|                null|    null|      Out of SF|                 null|               null|              null|               null|                null|                 null|                    null|                        null|                  null|                       null|              null|                                                null|                             null|                  null|                        null|\n",
      "+--------------------+-------------+-------------+-------------+--------------------+--------------------+-----------+-----------+---------------+----------+----------------+-----------------------+------------+-------------+--------------------+--------------------+--------------------+--------------------+--------------------+--------+---------------+---------------------+-------------------+------------------+-------------------+--------------------+---------------------+------------------------+----------------------------+----------------------+---------------------------+------------------+----------------------------------------------------+---------------------------------+----------------------+----------------------------+\n",
      "only showing top 20 rows\n",
      "\n"
     ]
    }
   ],
   "source": [
    "df.show()"
   ]
  },
  {
   "cell_type": "code",
   "execution_count": 51,
   "metadata": {},
   "outputs": [
    {
     "name": "stdout",
     "output_type": "stream",
     "text": [
      "+-----------+-----+\n",
      "|Incident ID|count|\n",
      "+-----------+-----+\n",
      "|     814521|    1|\n",
      "|     732366|    2|\n",
      "|     773162|    1|\n",
      "|     899258|    1|\n",
      "|     899142|    1|\n",
      "|     898691|    1|\n",
      "|     899272|    1|\n",
      "|     746808|    2|\n",
      "|     899660|    1|\n",
      "|     900314|    2|\n",
      "|     764546|    1|\n",
      "|     822705|    1|\n",
      "|     761947|    3|\n",
      "|     817636|    2|\n",
      "|     839748|    1|\n",
      "|     743638|    3|\n",
      "|     748640|    1|\n",
      "|     901677|    2|\n",
      "|     901546|    1|\n",
      "|     752131|    2|\n",
      "+-----------+-----+\n",
      "only showing top 20 rows\n",
      "\n"
     ]
    }
   ],
   "source": [
    "df.groupBy('Incident ID').count().show()"
   ]
  },
  {
   "cell_type": "code",
   "execution_count": 52,
   "metadata": {},
   "outputs": [
    {
     "name": "stdout",
     "output_type": "stream",
     "text": [
      "root\n",
      " |-- Incident Datetime: string (nullable = true)\n",
      " |-- Incident Date: string (nullable = true)\n",
      " |-- Incident Time: string (nullable = true)\n",
      " |-- Incident Year: string (nullable = true)\n",
      " |-- Incident Day of Week: string (nullable = true)\n",
      " |-- Report Datetime: string (nullable = true)\n",
      " |-- Row ID: string (nullable = true)\n",
      " |-- Incident ID: string (nullable = true)\n",
      " |-- Incident Number: string (nullable = true)\n",
      " |-- CAD Number: string (nullable = true)\n",
      " |-- Report Type Code: string (nullable = true)\n",
      " |-- Report Type Description: string (nullable = true)\n",
      " |-- Filed Online: string (nullable = true)\n",
      " |-- Incident Code: string (nullable = true)\n",
      " |-- Incident Category: string (nullable = true)\n",
      " |-- Incident Subcategory: string (nullable = true)\n",
      " |-- Incident Description: string (nullable = true)\n",
      " |-- Resolution: string (nullable = true)\n",
      " |-- Intersection: string (nullable = true)\n",
      " |-- CNN: string (nullable = true)\n",
      " |-- Police District: string (nullable = true)\n",
      " |-- Analysis Neighborhood: string (nullable = true)\n",
      " |-- Supervisor District: string (nullable = true)\n",
      " |-- Latitude: string (nullable = true)\n",
      " |-- Longitude: string (nullable = true)\n",
      " |-- point: string (nullable = true)\n",
      " |-- SF Find Neighborhoods: string (nullable = true)\n",
      " |-- Current Police Districts: string (nullable = true)\n",
      " |-- Current Supervisor Districts: string (nullable = true)\n",
      " |-- Analysis Neighborhoods: string (nullable = true)\n",
      " |-- HSOC Zones as of 2018-06-05: string (nullable = true)\n",
      " |-- OWED Public Spaces: string (nullable = true)\n",
      " |-- Central Market/Tenderloin Boundary Polygon - Updated: string (nullable = true)\n",
      " |-- Parks Alliance CPSI (27+TL sites): string (nullable = true)\n",
      " |-- ESNCAG - Boundary File: string (nullable = true)\n",
      " |-- Areas of Vulnerability, 2016: string (nullable = true)\n",
      "\n"
     ]
    }
   ],
   "source": [
    "df.printSchema()"
   ]
  },
  {
   "cell_type": "code",
   "execution_count": null,
   "metadata": {},
   "outputs": [],
   "source": []
  }
 ],
 "metadata": {
  "kernelspec": {
   "display_name": "Python 3",
   "language": "python",
   "name": "python3"
  },
  "language_info": {
   "codemirror_mode": {
    "name": "ipython",
    "version": 3
   },
   "file_extension": ".py",
   "mimetype": "text/x-python",
   "name": "python",
   "nbconvert_exporter": "python",
   "pygments_lexer": "ipython3",
   "version": "3.7.1"
  }
 },
 "nbformat": 4,
 "nbformat_minor": 2
}
